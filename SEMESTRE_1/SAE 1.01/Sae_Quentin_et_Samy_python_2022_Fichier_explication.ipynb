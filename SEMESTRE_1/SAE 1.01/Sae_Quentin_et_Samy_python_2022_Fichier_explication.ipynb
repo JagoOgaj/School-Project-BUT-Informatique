{
 "cells": [
  {
   "cell_type": "markdown",
   "metadata": {},
   "source": [
    "# Groupe: Samy OKI et Quentin MERI"
   ]
  },
  {
   "cell_type": "markdown",
   "metadata": {
    "deletable": false,
    "editable": false,
    "run_control": {
     "frozen": true
    }
   },
   "source": [
    "# <center> Etude de communautés dans un réseau social</center>\n",
    "<center> SAE 1.01 / 2022 - 23 </center>\n",
    "\n"
   ]
  },
  {
   "cell_type": "markdown",
   "metadata": {
    "deletable": false,
    "editable": false,
    "run_control": {
     "frozen": true
    }
   },
   "source": [
    "Cette SAE est à faire en **binôme**.\n",
    "\n",
    "**Calendrier**\n",
    "- Un contrôle de 2h en lien avec le contenu de cette SAE aura lieu le mercredi **26 octobre** 2022.\n",
    "- Le projet est à rendre le vendredi **28 octobre** 2022. Les modalités de rendu vous seront précisées par votre enseignant.\n",
    "\n",
    "**Evaluation**\n",
    "- Le projet comptera pour 40% de la note de SAE 1.01. <BR>\n",
    "    Il sera particulièrement tenu compte de la qualité du code, des **commentaires** et **docstrings**, des fonctions de **tests unitaires** pour les fonctions renvoyant des résultats. <BR><BR>\n",
    "    \n",
    "- Le contrôle compte pour 60% de la note finale."
   ]
  },
  {
   "cell_type": "markdown",
   "metadata": {
    "deletable": false,
    "editable": false,
    "run_control": {
     "frozen": true
    }
   },
   "source": [
    "## <center> Sujet </center>\n",
    "\n",
    "Une *communauté* est un ensemble de personnes développant des interactions dans un réseau social.\n",
    "\n",
    "Dans ce projet, on étudie des communautés modélisées sous différentes formes. Pour cela, on développe des fonctions permettant d'extraire des informations relatives à ces réseaux. "
   ]
  },
  {
   "cell_type": "markdown",
   "metadata": {
    "deletable": false,
    "editable": false,
    "run_control": {
     "frozen": true
    }
   },
   "source": [
    "On modélise, dans un premier temps, les interactions entre personnes dans un tableau `amis` de chaînes de caractères contenant les prénoms des membres du réseau et tel que `amis[2*i]` a des interactions avec `amis[2*i+1]`.\n",
    "\n",
    "On suppose que chaque interaction n'est décrite qu'une seule fois dans le tableau, et qu'une personne n'a pas d'interaction avec elle-même.\n",
    "\n",
    "**Exemple** : "
   ]
  },
  {
   "cell_type": "code",
   "execution_count": 1,
   "metadata": {
    "deletable": false,
    "editable": false
   },
   "outputs": [],
   "source": [
    "amis = [\"Alice\", \"Bob\", \"Alice\", \"Charlie\", \"Bob\", \"Denis\"]"
   ]
  },
  {
   "cell_type": "markdown",
   "metadata": {
    "deletable": false,
    "editable": false,
    "run_control": {
     "frozen": true
    }
   },
   "source": [
    "Ici, \n",
    "- Alice a des interactions Bob et Charlie, \n",
    "- Bob a des intractions avec Alice et Denis,\n",
    "- Charlie a des interactions avec Alice et\n",
    "- Denis a des interactions avec Bob."
   ]
  },
  {
   "cell_type": "markdown",
   "metadata": {
    "deletable": false,
    "editable": false,
    "run_control": {
     "frozen": true
    }
   },
   "source": [
    "#### Question préliminaire : Modélisation d'un réseau par un tableau\n",
    "\n",
    "Muriel, Yasmine et Joël sont amis. Yasmine est amie avec Thomas. \n",
    "Joël, Nassim, Andrea et Ali sont amis. Thomas est ami de Daria et Carole. Thierry, Axel et Léo sont amis. Léo est ami de Valentin qui est ami d'Andrea.\n",
    "\n",
    "- Construire un tableau `p_amis` qui modélise ce réseau d'amitié en selon le principe qui vient d'être décrit."
   ]
  },
  {
   "cell_type": "code",
   "execution_count": 86,
   "metadata": {},
   "outputs": [],
   "source": [
    "p_amis = [\"Joël\", \"Yasmine\", \"Joël\", \"Muriel\", \"Joël\", \"Nassim\", \"Joël\", \"Ali\", \"Joël\", \"Andrea\",\n",
    "         \"Yasmine\", \"Muriel\", \"Yasmine\", \"Thomas\",\n",
    "         \"Thomas\", \"Daria\", \"Thomas\", \"Carole\",\n",
    "         \"Nassim\", \"Andrea\", \"Nassim\", \"Ali\",\n",
    "         \"Andrea\", \"Ali\",\n",
    "         \"Valentin\", \"Andrea\",\n",
    "         \"Léo\", \"Valentin\", \"Léo\", \"Axel\",\n",
    "         \"Thierry\", \"Axel\", \"Thierry\", \"Léo\"]\n",
    "\n",
    "\n",
    "########################################\n",
    "#                                      #\n",
    "#  Réalisation de la question          #\n",
    "#                                      #\n",
    "########################################\n",
    "\n",
    "Pour ce faire à l'aide de l'explication donnée , nous avons alors réaliser un tableau où tout les indices paires \n",
    "correspond au membre du reseau et les indices impaires correspond au amis des membre d'indices impaires \n",
    "\n",
    "\n",
    "\n",
    "\n",
    "\n"
   ]
  },
  {
   "cell_type": "markdown",
   "metadata": {
    "deletable": false,
    "editable": false,
    "run_control": {
     "frozen": true
    }
   },
   "source": [
    "#### Question 1 : Nombre d'amis d'une personne\n",
    "\n",
    "- Étant donné un tableau `amis`, écrire une fonction `nb_amis(amis, prenom)` qui retourne le nombre d'amis de `prenom` à partir des données du tableau `amis`. "
   ]
  },
  {
   "cell_type": "code",
   "execution_count": 93,
   "metadata": {},
   "outputs": [
    {
     "name": "stdout",
     "output_type": "stream",
     "text": [
      "test de la fonction nb_amis : ok\n"
     ]
    }
   ],
   "source": [
    "def nb_amis(amis, prenom):\n",
    "    \"\"\"\n",
    "    Retourne le nombre d'amis d'une personne à partir d'un tableau amis et un prénom\n",
    "    \"\"\"\n",
    "    i=0 \n",
    "    nba = 0 #variable permetant de calculer le nombre d'amis\n",
    "    while i < len(amis): #voyage dans la liste \n",
    "        if amis[i]==prenom: #le nombre d'apparition du prenom defini son nombre d'amis\n",
    "            nba+=1 #on calcul son apparition\n",
    "        i+=1\n",
    "    return nba #retourne le nombre d'amis \n",
    "\n",
    "\n",
    "\n",
    "\n",
    "\n",
    "\n",
    "########################################\n",
    "#                                      #\n",
    "#  Réalisation de la question          #\n",
    "#                                      #\n",
    "########################################\n",
    "Est en donner que l'intéraction est sous forme d'un tableau pour trouver le nombre d'amis de cette personne \n",
    "il s'ufisait de connaitre son nombre d'apparition dans le tableau\n",
    "\n",
    "\n"
   ]
  },
  {
   "cell_type": "markdown",
   "metadata": {
    "deletable": false,
    "editable": false,
    "run_control": {
     "frozen": true
    }
   },
   "source": [
    "#### Question 2 : Nombre de membres d'un réseau social \n",
    "\n",
    "- Ecrire une fonction `taille_reseau(amis)` qui à partir d'un tableau `amis`retourne le nombre de personnes distinctes participant à ce réseau social."
   ]
  },
  {
   "cell_type": "code",
   "execution_count": 72,
   "metadata": {},
   "outputs": [
    {
     "name": "stdout",
     "output_type": "stream",
     "text": [
      "test de la fonction taille_reseau : ok\n"
     ]
    }
   ],
   "source": [
    "def taille_reseau(amis):\n",
    "    \"\"\"\n",
    "    Retourne le nombre de personnes distinctes à partir d'un tableau amis\n",
    "    \"\"\"\n",
    "    taille = []  \n",
    "    i = 0 \n",
    "    while i < len(amis): \n",
    "        if amis[i] not in taille : \n",
    "            taille.append(amis[i]) #ajout de l'élément d'indice i de la table amis s'il n'est pas présent dans le tableau taille    \n",
    "        i+=1\n",
    "    taille_f = len(taille) #taille_f prendra la valeur de la taille du tableau \n",
    "    return taille_f\n",
    "\n",
    "\n",
    "\n",
    "\n",
    "########################################\n",
    "#                                      #\n",
    "#  Réalisation de la question          #\n",
    "#                                      #\n",
    "########################################\n",
    "Pour trouver le nombre de membre du réseau nous avons directement eu l'idée de la méthode suivante qu'est \n",
    "d'utiliser la fonction len() d'un tableau afin qui ne retourn le nombre d'éléments de ce tableau\n",
    "Mais nous pouvons pas le faire directement en raison des doublons qui modélise l'intéraction des membres.\n",
    "C'est alors qu'on a décidé de creer un nouveau tableau afin d'y ajouter tout les membres pas présent dans le tableau créer \n",
    "et d'utiliser la méthode avec la fonction len() afin de nous renvoyer le nombre d'élément du tableau creer \n",
    "\n",
    "\n",
    "\n",
    "\n"
   ]
  },
  {
   "cell_type": "markdown",
   "metadata": {
    "deletable": false,
    "editable": false,
    "run_control": {
     "frozen": true
    }
   },
   "source": [
    "#### Question 3 :  Lecture des données d'un réseau à partir d'un fichier\n",
    "On suppose que les données sur un réseau social sont stockées dans un fichier CSV de la manière suivante :\n",
    "```\n",
    "prenom1;prenom2\n",
    "prenom3;prenom4\n",
    "prenom5;prenom6\n",
    "...\n",
    "```\n",
    "Autrement dit, chaque ligne du fichier contient une paire de prénoms séparés par un `';'` correspondant à deux personnes ayant des interactions. \n",
    "\n",
    "**NB** : Quatre fichiers CSV de ce type sont fournis dans le répertoire `files/`, il s'agit des fichiers`Communaute1.csv`, `Communaute2.csv`,`Communaute3.csv` et `Communaute4.csv`. \n",
    "Il est recommandé d'en fabriquer d'autres. \n",
    "\n",
    "- Ecrire une fonction `lecture_reseau(path)` prenant en paramètre un chemin vers un tel fichier CSV et retournant un tableau modélisant les interactions entre les personnes du fichier."
   ]
  },
  {
   "cell_type": "code",
   "execution_count": 85,
   "metadata": {},
   "outputs": [
    {
     "name": "stdout",
     "output_type": "stream",
     "text": [
      "test de la fonction lecture_reseau : ok\n"
     ]
    }
   ],
   "source": [
    "def lecture_reseau(path):\n",
    "    \"\"\"\n",
    "    Retourne un tableau modélisant les interactions entre les personnes à partir d'un chemin vers un fichier\n",
    "    \"\"\"\n",
    "    tab = []\n",
    "    f = open(path, encoding=\"utf-8\", mode=\"r\") #Ouverture du fichier \n",
    "    l = f.readline()            #Récupération de la ligne du fichier \n",
    "    while '' != l :             #initialisation de la boucle \n",
    "        a = l.strip()           \n",
    "        b = a.split(\";\")        #Le traitement consiste à recupérer les deux prénom de la ligne dans un tablau(grace à split)\n",
    "                                 # afin des les ajouter dans le tableau final \n",
    "        tab.append(b[0]) \n",
    "        tab.append(b[1])\n",
    "        l = f.readline()           \n",
    "    f.close()               \n",
    "    return tab               #phase aprés traitement on retourne le tableau final \n",
    "\n",
    "\n",
    "\n",
    "\n",
    "\n",
    "########################################\n",
    "#                                      #\n",
    "#  Réalisation de la question          #\n",
    "#                                      #\n",
    "########################################\n",
    "Ici pour pouvoir répondre à la question nous avons rémarquer que les fichiers CSV sont sous la forme prenom;prenom2 \n",
    "Ainsi nous avons donc penser à utiliser la fonction split() et d'y mettre le sépérateur \";\" afin de nous renvoyer un tableau de valeur(et de réaliser avant un strip afin de retirer le potentielle \"\\n\")\n",
    "comportant les deux éléments séparer par le \";\". aprés avoir récupérer le tableau il faudrait donc ajouter ces deux éléments \n",
    "dans le tableau final afin de répondre à la question. Nous avons vu que ce phénoméne se répétte alors il se doit de faire une\n",
    "Boucle afin de parcourrir le fichier csv "
   ]
  },
  {
   "cell_type": "markdown",
   "metadata": {
    "deletable": false,
    "editable": false,
    "run_control": {
     "frozen": true
    }
   },
   "source": [
    "#### Question 4 : Modélisation d'un réseau par un dictionnaire\n",
    "On préfère pour la suite, utiliser une modélisation du réseau social par un dictionnaire dont où les clés sont les prénoms des personnes du réseau et la valeur associé à une clé est le tableau des amis de la personne indiquée par la clé.\n",
    "\n",
    "- A partir d'un tableau `amis` modélisant les interactions entre personnes d'un réseau, écrire une fonction `dico_reseau(amis)` qui retourne un dictionnaire dont les clés sont les prénoms des membres du réseau et les valeurs le tableau de leurs amis."
   ]
  },
  {
   "cell_type": "code",
   "execution_count": 1,
   "metadata": {},
   "outputs": [
    {
     "ename": "SyntaxError",
     "evalue": "unterminated string literal (detected at line 29) (2380971763.py, line 29)",
     "output_type": "error",
     "traceback": [
      "\u001b[1;36m  Cell \u001b[1;32mIn [1], line 29\u001b[1;36m\u001b[0m\n\u001b[1;33m    Nous avons compris que dans le tableau les éléments d'indice pair sont des membres amis avec des indices impaires\u001b[0m\n\u001b[1;37m                                                         ^\u001b[0m\n\u001b[1;31mSyntaxError\u001b[0m\u001b[1;31m:\u001b[0m unterminated string literal (detected at line 29)\n"
     ]
    }
   ],
   "source": [
    "def dico_reseau(amis):\n",
    "    \"\"\"\n",
    "    Retourne un dictionnaire dont les clés sont les prénoms et les valeurs un tableau de leurs amis à partir d'une tableau amis\n",
    "    \"\"\"\n",
    "    i = 0\n",
    "    dic = {}\n",
    "    while i < len(amis):                  #initialisation de la boucle\n",
    "        if not amis[i] in list(dic):\n",
    "             dic[amis[i]] = [amis[i+1]]   #si l'élément d'indice pair (car i s'incrémente de 2 )n'est pas dans les clefs du dico alors on créer cette élément d'indice i en tant que clef \n",
    "                                          #et on ajoute à cette clefs l'élément suivant en effet nous s'avons que l'éléments impair et en interaction avec l'indice pair dans le tableau \n",
    "                                          #s'il existe déjà alors cette clefs à encore des intéraction il sufit d'ajouter aux valeurs de la clefs l'indice i+1 donc impaire du tableau du réseau \n",
    "    \n",
    "        else:\n",
    "            dic[amis[i]].append(amis[i+1])\n",
    "        i += 2\n",
    "    return dic\n",
    "\n",
    "\n",
    "\n",
    "\n",
    "\n",
    "\n",
    "########################################\n",
    "#                                      #\n",
    "#  Réalisation de la question          #\n",
    "#                                      #\n",
    "########################################\n",
    "\n",
    "Nous avons compris que dans le tableau les éléments d'indice pair sont des membres amis avec des indices impaires\n",
    "donc les clefs de ce dico sera les éléments d'idice paire et les valeurs de ces clefs les indices impaires du tableau .\n",
    "C'est alors que la réflexion sur une boucle est apparue  afin de parcourir seulements les éléments d'indices paires du tableau ,\n",
    "grace à la fonction in ce dernier permettra de s'avoir s'il existe déjà la méme clefs dans ce dico et s'il existe ceci veut dire \n",
    "que le membre à encore des interaction et donc il suffit d'ajouter cette interaction dans les valeurs de cette clefs\n"
   ]
  },
  {
   "cell_type": "markdown",
   "metadata": {
    "deletable": false,
    "editable": false,
    "run_control": {
     "frozen": true
    }
   },
   "source": [
    "#### Question 5 : Nombre d'amis des personnes les plus populaires\n",
    "\n",
    "- A partir d'un dictionnaire `dico_reseau` modélisant les interactions dans un réseau d'amis, écrire une fonction `nb_amis_plus_pop (dico_reseau)` qui retourne le nombre d'amis des personnes les plus populaires du réseau."
   ]
  },
  {
   "cell_type": "code",
   "execution_count": 90,
   "metadata": {},
   "outputs": [
    {
     "name": "stdout",
     "output_type": "stream",
     "text": [
      "test de la fonction nb_amis_pop : ok\n"
     ]
    }
   ],
   "source": [
    "def nb_amis_pop(dico_reseau):\n",
    "    \"\"\"\n",
    "    Retourne le nombre d'amis des personnes les plus populaires du réseau à partir d'un dictionnaire dico_reseau\n",
    "    \"\"\"\n",
    "    tab_nb_amis = []\n",
    "    t = 0\n",
    "    i = 0\n",
    "    keys = list(dico_reseau) #la varaible keys regroupera toute les clées du dico\n",
    "    while i < len(keys):\n",
    "        a = len(dico_reseau[keys[i]]) # a est la variable qui defini le nombre d'élément du tableau \n",
    "                                      #de la valeur de la clé du dico\n",
    "            \n",
    "        k = 0\n",
    "        while k < len(keys):\n",
    "            j = 0\n",
    "            while j < len(dico_reseau[keys[k]]):\n",
    "                if dico_reseau[keys[k]][j] == keys[i]: #ici nous cherchons si le membre du réseau posséde des amis ailleurs que dans son tableau \n",
    "                                                       #par conséquent on regarde s'il apparait dans les tableaux de valeurs des autres clé \n",
    "                                                       #et s'il y est on compte ça comme un amis en plus \n",
    "                    a += 1\n",
    "                j += 1\n",
    "            k += 1\n",
    "            \n",
    "        tab_nb_amis.append(a) #on ajoutera le nombre élément de chaque valeur dans un tableau nommé tab \n",
    "        \n",
    "        i+=1\n",
    "      \n",
    "    maxi = tab_nb_amis[0]\n",
    "    while t < len(tab_nb_amis):    #cette partie consiste à chercher le nombre d'élément max du tableau tab \n",
    "                           #ainsi qu'à la fin du traitement on retourne cette valeur \n",
    "        if maxi < tab_nb_amis[t]:\n",
    "            maxi = tab_nb_amis[t]\n",
    "        t+=1\n",
    "    return maxi \n",
    "\n",
    "\n",
    "########################################\n",
    "#                                      #\n",
    "#  Réalisation de la question          #\n",
    "#                                      #\n",
    "########################################\n",
    "Pour cette question nous avons compris qu'il fallait compter le nombre d'élément de chaque tableau de valeur pour chaques clés \n",
    "nous avons donc plus qu'à faire un len de chaques tableaux de valeur, mais un membre peut être amis avec d'autre membre c'est pour ça \n",
    "qu'une deuxiéme vérification s'impose afin de vérifier si la clé apparait dans les autres tableau de valeur.\n",
    "Après se traitement réaliser nous ajouterons donc les valeurs du nombre d'amis de chaque membre dans un tableau afin de trouver \n",
    "le nombre maximum dans se tableau. Puis plus qu'à retourner la valeur max \n",
    "\n",
    "\n"
   ]
  },
  {
   "cell_type": "markdown",
   "metadata": {
    "deletable": false,
    "editable": false,
    "run_control": {
     "frozen": true
    }
   },
   "source": [
    "#### Question 6 : Personnes les plus populaires\n",
    "\n",
    "- A partir d'un dictionnaire `dico_reseau` modélisant les interactions dans un réseau d'amis, écrire une fonction `les_plus_pop (dico_reseau)` qui retourne un tableau contenant les prénoms de toutes les personnes les plus populaires du réseau."
   ]
  },
  {
   "cell_type": "code",
   "execution_count": 91,
   "metadata": {},
   "outputs": [
    {
     "name": "stdout",
     "output_type": "stream",
     "text": [
      "test de la fonction les_plus_pop : ok\n"
     ]
    }
   ],
   "source": [
    "def les_plus_pop(dico_reseau):\n",
    "     \"\"\"\n",
    "    Retourne un tableau contenant les prénoms de toutes les personnes les plus populaires du réseau à partir d'un dictionnaire dico_reseau\n",
    "    \"\"\"\n",
    "    maxi = nb_amis_pop(dico_reseau) #recupéreation le nombre max d'amis \n",
    "    tab_nb_amis = []\n",
    "    tab_Nom = []\n",
    "    t = 0\n",
    "    i = 0\n",
    "    keys = list(dico_reseau)    #recupération des clées du dico \n",
    "    while i < len(keys):       #ce traitement consiste à ajouter le nombre d'amis de chacun afin \n",
    "                               #de les comparer dans la deuxième partie\n",
    "        a = len(dico_reseau[keys[i]])\n",
    "        \n",
    "        k = 0\n",
    "        while k < len(keys):\n",
    "            j = 0\n",
    "            while j < len(dico_reseau[keys[k]]):\n",
    "                if dico_reseau[keys[k]][j] == keys[i]: #ici nous cherchons si le membre du réseau posséde des amis ailleurs que dans son tableau \n",
    "                                                       #par conséquent on regarde s'il apparait dans les tableaux de valeurs des autres clé \n",
    "                                                       #et s'il y est on compte ça comme un amis en plus \n",
    "                    a += 1\n",
    "                j += 1\n",
    "            k += 1\n",
    "        \n",
    "        tab_nb_amis.append(a)\n",
    "        i+=1\n",
    "        \n",
    "    while t < len(tab_nb_amis) :     #cette partie consiste à comparer les valeurs du nombre d'amis de chacun dans \n",
    "                                    #le tableau tab_nb_amis si le nombre max à un nombre d'amis dans le tab_nb_amis alors \n",
    "                                    #il ajoute la clé dans le tableau tab_Nom afin de retourner cette valeur \n",
    "        if maxi == tab_nb_amis[t]:\n",
    "            tab_Nom.append(keys[t])\n",
    "        t+=1\n",
    "        \n",
    "    return tab_Nom\n",
    "\n",
    "########################################\n",
    "#                                      #\n",
    "#  Réalisation de la question          #\n",
    "#                                      #\n",
    "########################################\n",
    "Cette question est identique à la question précédente à un élément près.\n",
    "En effet on nous demande les membres les plus populaire est bien il s'agit de réaliser la meme traitement que la question précédente \n",
    "sauf que la fonction renvoie que le nombre max d'amis. Donc dans notre raisonnement cette fonction nous servira à donner des noms\n",
    "aux ou à la personne le plus populaire du réseau. Car en effet tout nombre d'amis égal à max est considéré alors comme un membre \n",
    "populaire. Et nous s'avons que les valeurs du nombre d'amis contenu dans un tableau fait référence à une clé car l'indice est le meme.\n",
    "Alors si cette condition est vrai plus qu'à ajouter la clé dans le tableau des plus populaire comportant le nom du membre \n",
    "\n",
    "\n"
   ]
  }
 ],
 "metadata": {
  "kernelspec": {
   "display_name": "Python 3 (ipykernel)",
   "language": "python",
   "name": "python3"
  },
  "language_info": {
   "codemirror_mode": {
    "name": "ipython",
    "version": 3
   },
   "file_extension": ".py",
   "mimetype": "text/x-python",
   "name": "python",
   "nbconvert_exporter": "python",
   "pygments_lexer": "ipython3",
   "version": "3.10.8"
  },
  "latex_envs": {
   "LaTeX_envs_menu_present": true,
   "autoclose": false,
   "autocomplete": true,
   "bibliofile": "biblio.bib",
   "cite_by": "apalike",
   "current_citInitial": 1,
   "eqLabelWithNumbers": true,
   "eqNumInitial": 1,
   "hotkeys": {
    "equation": "Ctrl-E",
    "itemize": "Ctrl-I"
   },
   "labels_anchors": false,
   "latex_user_defs": false,
   "report_style_numbering": false,
   "user_envs_cfg": false
  }
 },
 "nbformat": 4,
 "nbformat_minor": 2
}
