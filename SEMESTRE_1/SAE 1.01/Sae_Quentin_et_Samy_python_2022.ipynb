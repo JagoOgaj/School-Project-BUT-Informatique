{
 "cells": [
  {
   "cell_type": "markdown",
   "metadata": {},
   "source": [
    "# Groupe: Samy OKI et Quentin MERI"
   ]
  },
  {
   "cell_type": "markdown",
   "metadata": {
    "deletable": false,
    "editable": false,
    "run_control": {
     "frozen": true
    }
   },
   "source": [
    "# <center> Etude de communautés dans un réseau social</center>\n",
    "<center> SAE 1.01 / 2022 - 23 </center>\n",
    "\n"
   ]
  },
  {
   "cell_type": "markdown",
   "metadata": {
    "deletable": false,
    "editable": false,
    "run_control": {
     "frozen": true
    }
   },
   "source": [
    "Cette SAE est à faire en **binôme**.\n",
    "\n",
    "**Calendrier**\n",
    "- Un contrôle de 2h en lien avec le contenu de cette SAE aura lieu le mercredi **26 octobre** 2022.\n",
    "- Le projet est à rendre le vendredi **28 octobre** 2022. Les modalités de rendu vous seront précisées par votre enseignant.\n",
    "\n",
    "**Evaluation**\n",
    "- Le projet comptera pour 40% de la note de SAE 1.01. <BR>\n",
    "    Il sera particulièrement tenu compte de la qualité du code, des **commentaires** et **docstrings**, des fonctions de **tests unitaires** pour les fonctions renvoyant des résultats. <BR><BR>\n",
    "    \n",
    "- Le contrôle compte pour 60% de la note finale."
   ]
  },
  {
   "cell_type": "markdown",
   "metadata": {
    "deletable": false,
    "editable": false,
    "run_control": {
     "frozen": true
    }
   },
   "source": [
    "## <center> Sujet </center>\n",
    "\n",
    "Une *communauté* est un ensemble de personnes développant des interactions dans un réseau social.\n",
    "\n",
    "Dans ce projet, on étudie des communautés modélisées sous différentes formes. Pour cela, on développe des fonctions permettant d'extraire des informations relatives à ces réseaux. "
   ]
  },
  {
   "cell_type": "markdown",
   "metadata": {
    "deletable": false,
    "editable": false,
    "run_control": {
     "frozen": true
    }
   },
   "source": [
    "On modélise, dans un premier temps, les interactions entre personnes dans un tableau `amis` de chaînes de caractères contenant les prénoms des membres du réseau et tel que `amis[2*i]` a des interactions avec `amis[2*i+1]`.\n",
    "\n",
    "On suppose que chaque interaction n'est décrite qu'une seule fois dans le tableau, et qu'une personne n'a pas d'interaction avec elle-même.\n",
    "\n",
    "**Exemple** : "
   ]
  },
  {
   "cell_type": "code",
   "execution_count": 5,
   "metadata": {
    "deletable": false,
    "editable": false
   },
   "outputs": [],
   "source": [
    "amis = [\"Alice\", \"Bob\", \"Alice\", \"Charlie\", \"Bob\", \"Denis\"]"
   ]
  },
  {
   "cell_type": "markdown",
   "metadata": {
    "deletable": false,
    "editable": false,
    "run_control": {
     "frozen": true
    }
   },
   "source": [
    "Ici, \n",
    "- Alice a des interactions Bob et Charlie, \n",
    "- Bob a des intractions avec Alice et Denis,\n",
    "- Charlie a des interactions avec Alice et\n",
    "- Denis a des interactions avec Bob."
   ]
  },
  {
   "cell_type": "markdown",
   "metadata": {
    "deletable": false,
    "editable": false,
    "run_control": {
     "frozen": true
    }
   },
   "source": [
    "#### Question préliminaire : Modélisation d'un réseau par un tableau\n",
    "\n",
    "Muriel, Yasmine et Joël sont amis. Yasmine est amie avec Thomas. \n",
    "Joël, Nassim, Andrea et Ali sont amis. Thomas est ami de Daria et Carole. Thierry, Axel et Léo sont amis. Léo est ami de Valentin qui est ami d'Andrea.\n",
    "\n",
    "- Construire un tableau `p_amis` qui modélise ce réseau d'amitié en selon le principe qui vient d'être décrit."
   ]
  },
  {
   "cell_type": "code",
   "execution_count": 7,
   "metadata": {},
   "outputs": [],
   "source": [
    "p_amis = [\"Joël\", \"Yasmine\", \"Joël\", \"Muriel\", \"Joël\", \"Nassim\", \"Joël\", \"Ali\", \"Joël\", \"Andrea\",\n",
    "         \"Yasmine\", \"Muriel\", \"Yasmine\", \"Thomas\",\n",
    "         \"Thomas\", \"Daria\", \"Thomas\", \"Carole\",\n",
    "         \"Nassim\", \"Andrea\", \"Nassim\", \"Ali\",\n",
    "         \"Andrea\", \"Ali\",\n",
    "         \"Valentin\", \"Andrea\",\n",
    "         \"Léo\", \"Valentin\", \"Léo\", \"Axel\",\n",
    "         \"Thierry\", \"Axel\", \"Thierry\", \"Léo\"]"
   ]
  },
  {
   "cell_type": "markdown",
   "metadata": {
    "deletable": false,
    "editable": false,
    "run_control": {
     "frozen": true
    }
   },
   "source": [
    "#### Question 1 : Nombre d'amis d'une personne\n",
    "\n",
    "- Étant donné un tableau `amis`, écrire une fonction `nb_amis(amis, prenom)` qui retourne le nombre d'amis de `prenom` à partir des données du tableau `amis`. "
   ]
  },
  {
   "cell_type": "code",
   "execution_count": 8,
   "metadata": {},
   "outputs": [
    {
     "name": "stdout",
     "output_type": "stream",
     "text": [
      "test de la fonction nb_amis : ok\n"
     ]
    }
   ],
   "source": [
    "def nb_amis(amis, prenom):\n",
    "    \"\"\"\n",
    "    Retourne le nombre d'amis d'une personne à partir d'un tableau amis et un prénom\n",
    "    \"\"\"\n",
    "    i=0 \n",
    "    nba = 0 #variable permetant de calculer le nombre d'amis\n",
    "    while i < len(amis): #voyage dans la liste \n",
    "        if amis[i]==prenom: #le nombre d'apparition du prenom defini son nombre d'amis\n",
    "            nba+=1 #on calcul son apparition\n",
    "        i+=1\n",
    "    return nba #retourne le nombre d'amis \n",
    "\n",
    "\n",
    "# Tests unitaires\n",
    "def test_nb_amis():\n",
    "    assert nb_amis(p_amis, \"Joël\") == 5\n",
    "    assert nb_amis(p_amis,\"Muriel\") == 2\n",
    "    assert nb_amis(p_amis,\"Andrea\") != 1\n",
    "    assert nb_amis(p_amis,\"Valentin\") == 2\n",
    "    assert nb_amis(p_amis,\"Thomas\") == 3 \n",
    "    print(\"test de la fonction nb_amis : ok\")\n",
    "    \n",
    "test_nb_amis()"
   ]
  },
  {
   "cell_type": "markdown",
   "metadata": {
    "deletable": false,
    "editable": false,
    "run_control": {
     "frozen": true
    }
   },
   "source": [
    "#### Question 2 : Nombre de membres d'un réseau social \n",
    "\n",
    "- Ecrire une fonction `taille_reseau(amis)` qui à partir d'un tableau `amis`retourne le nombre de personnes distinctes participant à ce réseau social."
   ]
  },
  {
   "cell_type": "code",
   "execution_count": 9,
   "metadata": {},
   "outputs": [
    {
     "name": "stdout",
     "output_type": "stream",
     "text": [
      "test de la fonction taille_reseau : ok\n"
     ]
    }
   ],
   "source": [
    "def taille_reseau(amis):\n",
    "    \"\"\"\n",
    "    Retourne le nombre de personnes distinctes à partir d'un tableau amis\n",
    "    \"\"\"\n",
    "    taille = []  \n",
    "    i = 0 \n",
    "    while i < len(amis): \n",
    "        if amis[i] not in taille : \n",
    "            taille.append(amis[i]) #ajout de l'élément d'indice i de la table amis s'il n'est pas présent dans le tableau taille    \n",
    "        i+=1\n",
    "    taille_f = len(taille) #taille_f prendra la valeur de la taille du tableau \n",
    "    return taille_f\n",
    "\n",
    "# Tests unitaires\n",
    "def test_taille_reseau():\n",
    "    assert taille_reseau(amis) == 4\n",
    "    assert taille_reseau(p_amis) == 13\n",
    "    print(\"test de la fonction taille_reseau : ok\")\n",
    "    \n",
    "test_taille_reseau()"
   ]
  },
  {
   "cell_type": "markdown",
   "metadata": {
    "deletable": false,
    "editable": false,
    "run_control": {
     "frozen": true
    }
   },
   "source": [
    "#### Question 3 :  Lecture des données d'un réseau à partir d'un fichier\n",
    "On suppose que les données sur un réseau social sont stockées dans un fichier CSV de la manière suivante :\n",
    "```\n",
    "prenom1;prenom2\n",
    "prenom3;prenom4\n",
    "prenom5;prenom6\n",
    "...\n",
    "```\n",
    "Autrement dit, chaque ligne du fichier contient une paire de prénoms séparés par un `';'` correspondant à deux personnes ayant des interactions. \n",
    "\n",
    "**NB** : Quatre fichiers CSV de ce type sont fournis dans le répertoire `files/`, il s'agit des fichiers`Communaute1.csv`, `Communaute2.csv`,`Communaute3.csv` et `Communaute4.csv`. \n",
    "Il est recommandé d'en fabriquer d'autres. \n",
    "\n",
    "- Ecrire une fonction `lecture_reseau(path)` prenant en paramètre un chemin vers un tel fichier CSV et retournant un tableau modélisant les interactions entre les personnes du fichier."
   ]
  },
  {
   "cell_type": "code",
   "execution_count": 15,
   "metadata": {},
   "outputs": [
    {
     "name": "stdout",
     "output_type": "stream",
     "text": [
      "test de la fonction lecture_reseau : ok\n"
     ]
    }
   ],
   "source": [
    "def lecture_reseau(path):\n",
    "    \"\"\"\n",
    "    Retourne un tableau modélisant les interactions entre les personnes à partir d'un chemin vers un fichier\n",
    "    \"\"\"\n",
    "    tab = []\n",
    "    f = open(path, encoding=\"utf-8\", mode=\"r\")\n",
    "    l = f.readline()\n",
    "    while '' != l :\n",
    "        a = l.strip()\n",
    "        b = a.split(\";\")\n",
    "        tab.append(b[0]) \n",
    "        tab.append(b[1])\n",
    "        l = f.readline()\n",
    "    f.close()\n",
    "    return tab\n",
    "\n",
    "# Tests unitaires\n",
    "def test_lecture_reseau():\n",
    "    tab = ['Giedrius', 'Mady', 'Kirsa', 'Vittore', 'Barbra', 'Faizel', 'Vittorio', 'Vittore', 'Louis', 'Placide', 'Vittorio', 'Barbra', 'Cloe', 'Björn', 'Vittore', 'Barbra', 'Mady', 'Rufino', 'Cloe', 'Vittorio', 'Vittorio', 'Placide', 'Olavi', 'Rufino', 'Vittore', 'Cloe', 'Teodor', 'Cloe', 'Louis', 'Cloe', 'Idelle', 'Mady', 'Illtyd', 'Giedrius', 'Teodor', 'Olavi', 'Vittore', 'Mady', 'Rufino', 'Giedrius', 'Placide', 'Louis', 'Louis', 'Vittorio', 'Giedrius', 'Glenys', 'Björn', 'Olavi', 'Faizel', 'Placide', 'Rufino', 'Illtyd', 'Placide', 'Louis', 'Kirsa', 'Vittorio', 'Mady', 'Placide', 'Illtyd', 'Olavi', 'Vittorio', 'Placide', 'Cloe', 'Mady', 'Rufino', 'Vittorio', 'Placide', 'Rufino', 'Rufino', 'Vittorio', 'Giedrius', 'Illtyd', 'Rufino', 'Teodor', 'Olavi', 'Rufino', 'Placide', 'Jakob', 'Cloe', 'Björn', 'Barbra', 'Kirsa', 'Idelle', 'Cloe', 'Rufino', 'Illtyd', 'Rufino', 'Faizel', 'Rufino', 'Louis', 'Björn', 'Cloe', 'Vittorio', 'Olavi', 'Vittorio', 'Mady', 'Glenys', 'Cloe', 'Björn', 'Idelle', 'Mady', 'Björn', 'Barbra', 'Vittorio', 'Louis', 'Björn', 'Mady', 'Vittorio', 'Illtyd', 'Olavi', 'Olavi', 'Barbra', 'Björn', 'Giedrius', 'Mady', 'Placide', 'Faizel', 'Barbra', 'Marwa', 'Idelle', 'Placide', 'Olavi', 'Olavi', 'Placide', 'Cain', 'Vittorio', 'Louis', 'Placide', 'Jakob', 'Kirsa', 'Barbra', 'Marwa', 'Vittorio', 'Louis', 'Idelle', 'Illtyd', 'Louis', 'Giedrius', 'Olavi', 'Barbra', 'Mady', 'Barbra', 'Barbra', 'Rufino', 'Cloe', 'Barbra', 'Louis', 'Björn', 'Cloe', 'Björn', 'Mady', 'Barbra', 'Rufino', 'Björn', 'Kirsa', 'Vittore', 'Björn', 'Faizel', 'Jakob', 'Kirsa', 'Cloe', 'Vittore', 'Vittore', 'Björn', 'Björn', 'Teodor', 'Barbra', 'Rufino', 'Louis', 'Rufino', 'Vittorio', 'Mady', 'Olavi', 'Teodor', 'Teodor', 'Mady', 'Faizel', 'Olavi', 'Björn', 'Cloe', 'Cloe', 'Idelle', 'Barbra', 'Louis', 'Barbra', 'Vittore', 'Giedrius', 'Vittorio', 'Placide', 'Cain', 'Vittore', 'Louis', 'Mady', 'Jakob', 'Barbra', 'Vittore', 'Björn', 'Mady', 'Placide', 'Rufino', 'Placide', 'Cloe', 'Vittorio', 'Barbra', 'Illtyd', 'Rufino', 'Vittore', 'Louis', 'Olavi', 'Louis']\n",
    "    assert lecture_reseau(\"files/Communaute1.csv\") == tab\n",
    "    print(\"test de la fonction lecture_reseau : ok\")\n",
    "    \n",
    "test_lecture_reseau()"
   ]
  },
  {
   "cell_type": "markdown",
   "metadata": {
    "deletable": false,
    "editable": false,
    "run_control": {
     "frozen": true
    }
   },
   "source": [
    "#### Question 4 : Modélisation d'un réseau par un dictionnaire\n",
    "On préfère pour la suite, utiliser une modélisation du réseau social par un dictionnaire dont où les clés sont les prénoms des personnes du réseau et la valeur associé à une clé est le tableau des amis de la personne indiquée par la clé.\n",
    "\n",
    "- A partir d'un tableau `amis` modélisant les interactions entre personnes d'un réseau, écrire une fonction `dico_reseau(amis)` qui retourne un dictionnaire dont les clés sont les prénoms des membres du réseau et les valeurs le tableau de leurs amis."
   ]
  },
  {
   "cell_type": "code",
   "execution_count": 16,
   "metadata": {},
   "outputs": [
    {
     "name": "stdout",
     "output_type": "stream",
     "text": [
      "test de la fonction dico_reseau : ok\n"
     ]
    }
   ],
   "source": [
    "def dico_reseau(amis):\n",
    "    \"\"\"\n",
    "    Retourne un dictionnaire dont les clés sont les prénoms et les valeurs un tableau de leurs amis à partir d'une tableau amis\n",
    "    \"\"\"\n",
    "    i = 0\n",
    "    dic = {}\n",
    "    while i < len(amis):\n",
    "        if not amis[i] in list(dic):\n",
    "            dic[amis[i]] = [amis[i+1]]\n",
    "        else:\n",
    "            dic[amis[i]].append(amis[i+1])\n",
    "        i += 2\n",
    "    return dic\n",
    "\n",
    "# Tests unitaires\n",
    "def test_dico_reseau():\n",
    "    assert dico_reseau(p_amis) == {'Joël': ['Yasmine', 'Muriel', 'Nassim', 'Ali', 'Andrea'], 'Yasmine': ['Muriel', 'Thomas'], 'Thomas': ['Daria', 'Carole'], 'Nassim': ['Andrea', 'Ali'], 'Andrea': ['Ali'], 'Valentin': ['Andrea'], 'Léo': ['Valentin', 'Axel'], 'Thierry': ['Axel', 'Léo']}\n",
    "    assert dico_reseau(amis) == {'Alice': ['Bob', 'Charlie'], 'Bob': ['Denis']}\n",
    "    assert dico_reseau(amis) != {'Bob': ['Denis', 'Charlie'], 'Alice': ['Denis']}\n",
    "    print(\"test de la fonction dico_reseau : ok\")\n",
    "\n",
    "test_dico_reseau()"
   ]
  },
  {
   "cell_type": "markdown",
   "metadata": {
    "deletable": false,
    "editable": false,
    "run_control": {
     "frozen": true
    }
   },
   "source": [
    "#### Question 5 : Nombre d'amis des personnes les plus populaires\n",
    "\n",
    "- A partir d'un dictionnaire `dico_reseau` modélisant les interactions dans un réseau d'amis, écrire une fonction `nb_amis_plus_pop (dico_reseau)` qui retourne le nombre d'amis des personnes les plus populaires du réseau."
   ]
  },
  {
   "cell_type": "code",
   "execution_count": 12,
   "metadata": {},
   "outputs": [
    {
     "name": "stdout",
     "output_type": "stream",
     "text": [
      "test de la fonction nb_amis_plus_pop : ok\n"
     ]
    }
   ],
   "source": [
    "def nb_amis_plus_pop(dico_reseau):\n",
    "    \"\"\"\n",
    "    Retourne le nombre d'amis des personnes les plus populaires du réseau à partir d'un dictionnaire dico_reseau\n",
    "    \"\"\"\n",
    "    tab_nb_amis = []\n",
    "    t = 0\n",
    "    i = 0\n",
    "    keys = list(dico_reseau) #la varaible keys regroupera toute les clées du dico\n",
    "    while i < len(keys):\n",
    "        a = len(dico_reseau[keys[i]]) # a est la variable qui defini le nombre d'élément du tableau \n",
    "                                      #de la valeur de la clé du dico\n",
    "            \n",
    "        k = 0\n",
    "        while k < len(keys):\n",
    "            j = 0\n",
    "            while j < len(dico_reseau[keys[k]]):\n",
    "                if dico_reseau[keys[k]][j] == keys[i]:\n",
    "                    a += 1\n",
    "                j += 1\n",
    "            k += 1\n",
    "            \n",
    "        tab_nb_amis.append(a) #on ajoutera le nombre élément de chaque valeur dans un tableau nommé tab \n",
    "        \n",
    "        i+=1\n",
    "      \n",
    "    maxi = tab_nb_amis[0]\n",
    "    while t < len(tab_nb_amis):    #cette partie consiste à chercher le nombre d'élément max du tableau tab \n",
    "                           #ainsi qu'à la fin du traitement on retourne cette valeur \n",
    "        if maxi < tab_nb_amis[t]:\n",
    "            maxi = tab_nb_amis[t]\n",
    "        t+=1\n",
    "    return maxi \n",
    "\n",
    "# Tests unitaires\n",
    "def test_nb_amis_plus_pop():\n",
    "    assert nb_amis_plus_pop(dico_reseau(p_amis)) == 5\n",
    "    assert nb_amis_plus_pop(dico_reseau(lecture_reseau(\"files/Communaute1.csv\"))) == 18\n",
    "    print(\"test de la fonction nb_amis_plus_pop : ok\")\n",
    "\n",
    "test_nb_amis_plus_pop()\n",
    "\n",
    "\n"
   ]
  },
  {
   "cell_type": "markdown",
   "metadata": {
    "deletable": false,
    "editable": false,
    "run_control": {
     "frozen": true
    }
   },
   "source": [
    "#### Question 6 : Personnes les plus populaires\n",
    "\n",
    "- A partir d'un dictionnaire `dico_reseau` modélisant les interactions dans un réseau d'amis, écrire une fonction `les_plus_pop (dico_reseau)` qui retourne un tableau contenant les prénoms de toutes les personnes les plus populaires du réseau."
   ]
  },
  {
   "cell_type": "code",
   "execution_count": 13,
   "metadata": {},
   "outputs": [
    {
     "name": "stdout",
     "output_type": "stream",
     "text": [
      "test de la fonction les_plus_pop : ok\n"
     ]
    }
   ],
   "source": [
    "def les_plus_pop(dico_reseau):\n",
    "    \"\"\"\n",
    "    Retourne un tableau contenant les prénoms de toutes les personnes les plus populaires du réseau à partir d'un dictionnaire dico_reseau\n",
    "    \"\"\"\n",
    "    maxi = nb_amis_plus_pop(dico_reseau) #recupéreation le nombre max d'amis \n",
    "    tab_nb_amis = []\n",
    "    tab_Nom = []\n",
    "    t = 0\n",
    "    i = 0\n",
    "    keys = list(dico_reseau)    #recupération des clées du dico \n",
    "    while i < len(keys):       #ce traitement consiste à ajouter le nombre d'amis de chacun afin \n",
    "                               #de les comparer dans la deuxième partie\n",
    "        a = len(dico_reseau[keys[i]])\n",
    "        \n",
    "        k = 0\n",
    "        while k < len(keys):\n",
    "            j = 0\n",
    "            while j < len(dico_reseau[keys[k]]):\n",
    "                if dico_reseau[keys[k]][j] == keys[i]:\n",
    "                    a += 1\n",
    "                j += 1\n",
    "            k += 1\n",
    "        \n",
    "        tab_nb_amis.append(a)\n",
    "        i+=1\n",
    "        \n",
    "    while t < len(tab_nb_amis) :     #cette partie consiste à comparer les valeurs du nombre d'amis de chacun dans \n",
    "                                    #le tableau tab_nb_amis si le nombre max à un nombre d'amis dans le tab_nb_amis alors \n",
    "                                    #il ajoute la clé dans le tableau tab_Nom afin de retourner cette valeur \n",
    "        if maxi == tab_nb_amis[t]:\n",
    "            tab_Nom.append(keys[t])\n",
    "        t+=1\n",
    "        \n",
    "\n",
    "    return tab_Nom\n",
    "\n",
    "# Tests unitaires\n",
    "def test_les_plus_pop():\n",
    "    assert les_plus_pop(dico_reseau(lecture_reseau(\"files/Communaute1.csv\"))) == ['Barbra', 'Vittorio', 'Rufino']\n",
    "    assert les_plus_pop(dico_reseau(p_amis)) == ['Joël']\n",
    "    print(\"test de la fonction les_plus_pop : ok\")\n",
    "\n",
    "test_les_plus_pop()\n",
    "\n",
    "\n",
    "\n"
   ]
  }
 ],
 "metadata": {
  "kernelspec": {
   "display_name": "Python 3 (ipykernel)",
   "language": "python",
   "name": "python3"
  },
  "language_info": {
   "codemirror_mode": {
    "name": "ipython",
    "version": 3
   },
   "file_extension": ".py",
   "mimetype": "text/x-python",
   "name": "python",
   "nbconvert_exporter": "python",
   "pygments_lexer": "ipython3",
   "version": "3.10.8"
  },
  "latex_envs": {
   "LaTeX_envs_menu_present": true,
   "autoclose": false,
   "autocomplete": true,
   "bibliofile": "biblio.bib",
   "cite_by": "apalike",
   "current_citInitial": 1,
   "eqLabelWithNumbers": true,
   "eqNumInitial": 1,
   "hotkeys": {
    "equation": "Ctrl-E",
    "itemize": "Ctrl-I"
   },
   "labels_anchors": false,
   "latex_user_defs": false,
   "report_style_numbering": false,
   "user_envs_cfg": false
  }
 },
 "nbformat": 4,
 "nbformat_minor": 2
}
