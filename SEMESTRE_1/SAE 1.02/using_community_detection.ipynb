{
 "cells": [
  {
   "cell_type": "markdown",
   "id": "7c4324f2",
   "metadata": {},
   "source": [
    "# Question 2"
   ]
  },
  {
   "cell_type": "code",
   "execution_count": 3,
   "id": "cdee9a64",
   "metadata": {},
   "outputs": [
    {
     "name": "stdout",
     "output_type": "stream",
     "text": [
      "Temps d'execution de dico_reseau:  35.48312187194824 ms\n",
      "Temps d'execution de create_network:  9.99593734741211 ms\n"
     ]
    }
   ],
   "source": [
    "from community_detection import *\n",
    "from time import *\n",
    "\n",
    "amis = [\"John\", \"Sarah\", \"Sarah\", \"Mike\", \"Mike\", \"Amy\", \"Amy\", \"John\"]\n",
    "\n",
    "tic_1 = time()\n",
    "i = 0\n",
    "while i < 10000:\n",
    "    dico_reseau(amis)\n",
    "    i += 1\n",
    "tac_1 = time()\n",
    "temps_dico_reseau = (tac_1-tic_1)*1000\n",
    "\n",
    "tic_2 = time()\n",
    "i = 0\n",
    "while i < 10000:\n",
    "    create_network(amis)\n",
    "    i += 1\n",
    "tac_2 = time()\n",
    "temps_create_network = (tac_2-tic_2)*1000\n",
    "\n",
    "print(\"Temps d'execution de dico_reseau: \", temps_dico_reseau, \"ms\")\n",
    "print(\"Temps d'execution de create_network: \", temps_create_network, \"ms\")"
   ]
  },
  {
   "cell_type": "markdown",
   "id": "8ad572f2",
   "metadata": {},
   "source": [
    "Pour comparer expériementalement les fonctions dico_reseau et create_network nous avons mesurer le temps nécessaire à l'exécution de chaque fonction. Et nous constatons que pour 10000 executions pour chaque fonctions, la fonction la plus rapide est create_network.\n",
    "\n",
    "Maintenant pour comparer théoriquement les fonctions dico_reseau et create_network, nous avons comparer la complexité algorithmique des fonctions. Pour ce faire nous avons examiner le nombre d'opérations effectuées par chaque fonction.\n",
    "\n",
    "Ainsi, la complexité algorithmique de la fonction dico_reseau est de O(n^2) et la fonction create_network est de O(n).\n",
    "Il est théoriquement plus rapide de utiliser la fonction create_network car elle a une complexité en O(n) alors que dico_reseau a une complexité en O(n^2)."
   ]
  },
  {
   "cell_type": "markdown",
   "id": "2e6e950d",
   "metadata": {},
   "source": [
    "# Question 11"
   ]
  },
  {
   "cell_type": "code",
   "execution_count": 5,
   "id": "50dd0502",
   "metadata": {},
   "outputs": [
    {
     "name": "stdout",
     "output_type": "stream",
     "text": [
      "Temps d'execution de find_community_from_person:  10.015487670898438 ms\n",
      "Temps d'execution de find_community_by_decreasing_popularity:  18.56374740600586 ms\n"
     ]
    }
   ],
   "source": [
    "from community_detection import *\n",
    "from time import *\n",
    "\n",
    "network = {\n",
    "  \"Alice\" : [\"Bob\", \"Dominique\"],\n",
    "  \"Bob\" : [\"Alice\", \"Charlie\", \"Dominique\"],\n",
    "  \"Charlie\" : [\"Bob\"],\n",
    "  \"Dominique\" : [\"Alice\", \"Bob\"]\n",
    "}\n",
    "\n",
    "tic_1 = time()\n",
    "i = 0\n",
    "while i < 10000:\n",
    "    find_community_from_person(network, \"Alice\")\n",
    "    i += 1\n",
    "tac_1 = time()\n",
    "resultat_1 = (tac_1-tic_1)*1000\n",
    "\n",
    "tic_2 = time()\n",
    "i = 0\n",
    "while i < 10000:\n",
    "    find_community_by_decreasing_popularity(network)\n",
    "    i += 1\n",
    "tac_2 = time()\n",
    "resultat_2 = (tac_2-tic_2)*1000\n",
    "\n",
    "\n",
    "print(\"Temps d'execution de find_community_from_person: \", resultat_1, \"ms\")\n",
    "print(\"Temps d'execution de find_community_by_decreasing_popularity: \", resultat_2, \"ms\")"
   ]
  },
  {
   "cell_type": "markdown",
   "id": "16f9c3b0",
   "metadata": {},
   "source": [
    "Pour comparer expériementalement les fonctions find_community_by_decreasing_popularity et find_community_from_person nous avons mesurer le temps nécessaire à l'exécution de chaque fonction comme pour la question d'avant. Et nous constatons que pour 10000 executions pour chaque fonctions, la fonction la plus rapide est find_community_from_person.\n",
    "\n",
    "Maintenant pour comparer théoriquement les fonctions find_community_by_decreasing_popularity et find_community_from_person, nous avons comparer la complexité algorithmique des fonctions. Pour ce faire nous avons examiner le nombre d'opérations effectuées par chaque fonction.\n",
    "\n",
    "Ainsi, la complexité algorithmique de la fonction find_community_from_person est de O(n+m) et la fonction find_community_by_decreasing_popularity est de O(n^2).\n",
    "Il est théoriquement plus rapide de utiliser la fonction find_community_from_person car elle a une complexité en O(n+m) alors que find_community_by_decreasing_popularity a une complexité en O(n^2)."
   ]
  }
 ],
 "metadata": {
  "kernelspec": {
   "display_name": "Python 3 (ipykernel)",
   "language": "python",
   "name": "python3"
  },
  "language_info": {
   "codemirror_mode": {
    "name": "ipython",
    "version": 3
   },
   "file_extension": ".py",
   "mimetype": "text/x-python",
   "name": "python",
   "nbconvert_exporter": "python",
   "pygments_lexer": "ipython3",
   "version": "3.11.1"
  }
 },
 "nbformat": 4,
 "nbformat_minor": 5
}
